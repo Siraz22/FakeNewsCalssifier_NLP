{
 "cells": [
  {
   "cell_type": "code",
   "execution_count": 55,
   "metadata": {},
   "outputs": [],
   "source": [
    "# Suppress warnings \n",
    "import warnings\n",
    "warnings.filterwarnings('ignore')\n",
    "\n",
    "import pandas as pd\n",
    "import numpy as np\n",
    "import nltk\n",
    "from nltk.corpus import stopwords\n",
    "import re\n",
    "import string\n",
    "\n",
    "from sklearn.feature_extraction.text import CountVectorizer,TfidfVectorizer,HashingVectorizer\n",
    "from sklearn import model_selection\n",
    "from sklearn.linear_model import LogisticRegression\n",
    "\n",
    "stopwords = stopwords.words('english')"
   ]
  },
  {
   "cell_type": "code",
   "execution_count": 56,
   "metadata": {},
   "outputs": [],
   "source": [
    "train = pd.read_csv('no_stopwords_combined.csv')\n",
    "test = pd.read_csv('testnostopwords.csv')"
   ]
  },
  {
   "cell_type": "code",
   "execution_count": 57,
   "metadata": {},
   "outputs": [
    {
     "data": {
      "text/html": [
       "<div>\n",
       "<style scoped>\n",
       "    .dataframe tbody tr th:only-of-type {\n",
       "        vertical-align: middle;\n",
       "    }\n",
       "\n",
       "    .dataframe tbody tr th {\n",
       "        vertical-align: top;\n",
       "    }\n",
       "\n",
       "    .dataframe thead th {\n",
       "        text-align: right;\n",
       "    }\n",
       "</style>\n",
       "<table border=\"1\" class=\"dataframe\">\n",
       "  <thead>\n",
       "    <tr style=\"text-align: right;\">\n",
       "      <th></th>\n",
       "      <th>Unnamed: 0</th>\n",
       "      <th>title</th>\n",
       "      <th>text</th>\n",
       "      <th>subject</th>\n",
       "      <th>date</th>\n",
       "      <th>target</th>\n",
       "    </tr>\n",
       "  </thead>\n",
       "  <tbody>\n",
       "    <tr>\n",
       "      <th>0</th>\n",
       "      <td>0</td>\n",
       "      <td>Ramaphosa's ANC election win lifts South Afric...</td>\n",
       "      <td>['johannesburg', 'reuters', 'south', 'african'...</td>\n",
       "      <td>worldnews</td>\n",
       "      <td>December 19, 2017</td>\n",
       "      <td>1</td>\n",
       "    </tr>\n",
       "    <tr>\n",
       "      <th>1</th>\n",
       "      <td>1</td>\n",
       "      <td>VIGILANTE PIRATES INTERCEDE Where Government F...</td>\n",
       "      <td>['like', 'soldiers', 'oden', 'vigilante', 'gro...</td>\n",
       "      <td>Government News</td>\n",
       "      <td>Apr 1, 2016</td>\n",
       "      <td>0</td>\n",
       "    </tr>\n",
       "    <tr>\n",
       "      <th>2</th>\n",
       "      <td>2</td>\n",
       "      <td>SICK! DEMOCRAT ORGANIZER, Mayor DeBlasio Emplo...</td>\n",
       "      <td>['last', 'week', 'huma', 'abedin', 'husband', ...</td>\n",
       "      <td>left-news</td>\n",
       "      <td>May 28, 2017</td>\n",
       "      <td>0</td>\n",
       "    </tr>\n",
       "    <tr>\n",
       "      <th>3</th>\n",
       "      <td>3</td>\n",
       "      <td>Dennis Rodman talks of skiing friendship with ...</td>\n",
       "      <td>['edinburgh', 'reuters', 'us', 'basketball', '...</td>\n",
       "      <td>worldnews</td>\n",
       "      <td>September 6, 2017</td>\n",
       "      <td>1</td>\n",
       "    </tr>\n",
       "    <tr>\n",
       "      <th>4</th>\n",
       "      <td>4</td>\n",
       "      <td>New Hampshire Cops Intent On Protecting Sadis...</td>\n",
       "      <td>['lynchings', 'black', 'people', 'still', 'hap...</td>\n",
       "      <td>News</td>\n",
       "      <td>September 10, 2017</td>\n",
       "      <td>0</td>\n",
       "    </tr>\n",
       "  </tbody>\n",
       "</table>\n",
       "</div>"
      ],
      "text/plain": [
       "   Unnamed: 0                                              title  \\\n",
       "0           0  Ramaphosa's ANC election win lifts South Afric...   \n",
       "1           1  VIGILANTE PIRATES INTERCEDE Where Government F...   \n",
       "2           2  SICK! DEMOCRAT ORGANIZER, Mayor DeBlasio Emplo...   \n",
       "3           3  Dennis Rodman talks of skiing friendship with ...   \n",
       "4           4   New Hampshire Cops Intent On Protecting Sadis...   \n",
       "\n",
       "                                                text          subject  \\\n",
       "0  ['johannesburg', 'reuters', 'south', 'african'...        worldnews   \n",
       "1  ['like', 'soldiers', 'oden', 'vigilante', 'gro...  Government News   \n",
       "2  ['last', 'week', 'huma', 'abedin', 'husband', ...        left-news   \n",
       "3  ['edinburgh', 'reuters', 'us', 'basketball', '...        worldnews   \n",
       "4  ['lynchings', 'black', 'people', 'still', 'hap...             News   \n",
       "\n",
       "                 date  target  \n",
       "0  December 19, 2017        1  \n",
       "1         Apr 1, 2016       0  \n",
       "2        May 28, 2017       0  \n",
       "3  September 6, 2017        1  \n",
       "4  September 10, 2017       0  "
      ]
     },
     "execution_count": 57,
     "metadata": {},
     "output_type": "execute_result"
    }
   ],
   "source": [
    "train.head()"
   ]
  },
  {
   "cell_type": "code",
   "execution_count": 58,
   "metadata": {},
   "outputs": [
    {
     "data": {
      "text/html": [
       "<div>\n",
       "<style scoped>\n",
       "    .dataframe tbody tr th:only-of-type {\n",
       "        vertical-align: middle;\n",
       "    }\n",
       "\n",
       "    .dataframe tbody tr th {\n",
       "        vertical-align: top;\n",
       "    }\n",
       "\n",
       "    .dataframe thead th {\n",
       "        text-align: right;\n",
       "    }\n",
       "</style>\n",
       "<table border=\"1\" class=\"dataframe\">\n",
       "  <thead>\n",
       "    <tr style=\"text-align: right;\">\n",
       "      <th></th>\n",
       "      <th>article_title</th>\n",
       "      <th>text</th>\n",
       "      <th>location</th>\n",
       "      <th>target</th>\n",
       "    </tr>\n",
       "  </thead>\n",
       "  <tbody>\n",
       "    <tr>\n",
       "      <th>0</th>\n",
       "      <td>Syria attack symptoms consistent with nerve ag...</td>\n",
       "      <td>['wed', 'apr', 'syria', 'attack', 'symptoms', ...</td>\n",
       "      <td>idlib</td>\n",
       "      <td>0</td>\n",
       "    </tr>\n",
       "    <tr>\n",
       "      <th>1</th>\n",
       "      <td>Homs governor says U.S. attack caused deaths b...</td>\n",
       "      <td>['fri', 'apr', 'homs', 'governor', 'says', 'us...</td>\n",
       "      <td>homs</td>\n",
       "      <td>0</td>\n",
       "    </tr>\n",
       "    <tr>\n",
       "      <th>2</th>\n",
       "      <td>Death toll from Aleppo bomb attack at least 112</td>\n",
       "      <td>['sun', 'apr', 'death', 'toll', 'aleppo', 'bom...</td>\n",
       "      <td>aleppo</td>\n",
       "      <td>0</td>\n",
       "    </tr>\n",
       "    <tr>\n",
       "      <th>3</th>\n",
       "      <td>Aleppo bomb blast kills six Syrian state TV</td>\n",
       "      <td>['wed', 'apr', 'aleppo', 'bomb', 'blast', 'kil...</td>\n",
       "      <td>aleppo</td>\n",
       "      <td>0</td>\n",
       "    </tr>\n",
       "    <tr>\n",
       "      <th>4</th>\n",
       "      <td>29 Syria Rebels Dead in Fighting for Key Alepp...</td>\n",
       "      <td>['sun', 'jul', 'syria', 'rebels', 'dead', 'fig...</td>\n",
       "      <td>aleppo</td>\n",
       "      <td>0</td>\n",
       "    </tr>\n",
       "  </tbody>\n",
       "</table>\n",
       "</div>"
      ],
      "text/plain": [
       "                                       article_title  \\\n",
       "0  Syria attack symptoms consistent with nerve ag...   \n",
       "1  Homs governor says U.S. attack caused deaths b...   \n",
       "2    Death toll from Aleppo bomb attack at least 112   \n",
       "3        Aleppo bomb blast kills six Syrian state TV   \n",
       "4  29 Syria Rebels Dead in Fighting for Key Alepp...   \n",
       "\n",
       "                                                text location  target  \n",
       "0  ['wed', 'apr', 'syria', 'attack', 'symptoms', ...    idlib       0  \n",
       "1  ['fri', 'apr', 'homs', 'governor', 'says', 'us...     homs       0  \n",
       "2  ['sun', 'apr', 'death', 'toll', 'aleppo', 'bom...   aleppo       0  \n",
       "3  ['wed', 'apr', 'aleppo', 'bomb', 'blast', 'kil...   aleppo       0  \n",
       "4  ['sun', 'jul', 'syria', 'rebels', 'dead', 'fig...   aleppo       0  "
      ]
     },
     "execution_count": 58,
     "metadata": {},
     "output_type": "execute_result"
    }
   ],
   "source": [
    "test.head()"
   ]
  },
  {
   "cell_type": "code",
   "execution_count": 66,
   "metadata": {},
   "outputs": [],
   "source": [
    "'''\n",
    "def clean_text(text):\n",
    "    \n",
    "    text = text.lower()\n",
    "    text = re.sub('[\\'\\[\\],]', '', text)\n",
    "\n",
    "    return text\n",
    "\n",
    "test['text'] = test['text'].apply(lambda x : clean_text(x))\n",
    "train['text'] = train['text'].apply(lambda x : clean_text(x))\n",
    "'''"
   ]
  },
  {
   "cell_type": "code",
   "execution_count": 67,
   "metadata": {},
   "outputs": [
    {
     "data": {
      "text/html": [
       "<div>\n",
       "<style scoped>\n",
       "    .dataframe tbody tr th:only-of-type {\n",
       "        vertical-align: middle;\n",
       "    }\n",
       "\n",
       "    .dataframe tbody tr th {\n",
       "        vertical-align: top;\n",
       "    }\n",
       "\n",
       "    .dataframe thead th {\n",
       "        text-align: right;\n",
       "    }\n",
       "</style>\n",
       "<table border=\"1\" class=\"dataframe\">\n",
       "  <thead>\n",
       "    <tr style=\"text-align: right;\">\n",
       "      <th></th>\n",
       "      <th>article_title</th>\n",
       "      <th>text</th>\n",
       "      <th>location</th>\n",
       "      <th>target</th>\n",
       "    </tr>\n",
       "  </thead>\n",
       "  <tbody>\n",
       "    <tr>\n",
       "      <th>0</th>\n",
       "      <td>Syria attack symptoms consistent with nerve ag...</td>\n",
       "      <td>wed apr syria attack symptoms consistent nerve...</td>\n",
       "      <td>idlib</td>\n",
       "      <td>0</td>\n",
       "    </tr>\n",
       "    <tr>\n",
       "      <th>1</th>\n",
       "      <td>Homs governor says U.S. attack caused deaths b...</td>\n",
       "      <td>fri apr homs governor says us attack caused de...</td>\n",
       "      <td>homs</td>\n",
       "      <td>0</td>\n",
       "    </tr>\n",
       "    <tr>\n",
       "      <th>2</th>\n",
       "      <td>Death toll from Aleppo bomb attack at least 112</td>\n",
       "      <td>sun apr death toll aleppo bomb attack least de...</td>\n",
       "      <td>aleppo</td>\n",
       "      <td>0</td>\n",
       "    </tr>\n",
       "    <tr>\n",
       "      <th>3</th>\n",
       "      <td>Aleppo bomb blast kills six Syrian state TV</td>\n",
       "      <td>wed apr aleppo bomb blast kills six syrian sta...</td>\n",
       "      <td>aleppo</td>\n",
       "      <td>0</td>\n",
       "    </tr>\n",
       "    <tr>\n",
       "      <th>4</th>\n",
       "      <td>29 Syria Rebels Dead in Fighting for Key Alepp...</td>\n",
       "      <td>sun jul syria rebels dead fighting key aleppo ...</td>\n",
       "      <td>aleppo</td>\n",
       "      <td>0</td>\n",
       "    </tr>\n",
       "  </tbody>\n",
       "</table>\n",
       "</div>"
      ],
      "text/plain": [
       "                                       article_title  \\\n",
       "0  Syria attack symptoms consistent with nerve ag...   \n",
       "1  Homs governor says U.S. attack caused deaths b...   \n",
       "2    Death toll from Aleppo bomb attack at least 112   \n",
       "3        Aleppo bomb blast kills six Syrian state TV   \n",
       "4  29 Syria Rebels Dead in Fighting for Key Alepp...   \n",
       "\n",
       "                                                text location  target  \n",
       "0  wed apr syria attack symptoms consistent nerve...    idlib       0  \n",
       "1  fri apr homs governor says us attack caused de...     homs       0  \n",
       "2  sun apr death toll aleppo bomb attack least de...   aleppo       0  \n",
       "3  wed apr aleppo bomb blast kills six syrian sta...   aleppo       0  \n",
       "4  sun jul syria rebels dead fighting key aleppo ...   aleppo       0  "
      ]
     },
     "execution_count": 67,
     "metadata": {},
     "output_type": "execute_result"
    }
   ],
   "source": [
    "test.head()"
   ]
  },
  {
   "cell_type": "code",
   "execution_count": 68,
   "metadata": {},
   "outputs": [
    {
     "data": {
      "text/html": [
       "<div>\n",
       "<style scoped>\n",
       "    .dataframe tbody tr th:only-of-type {\n",
       "        vertical-align: middle;\n",
       "    }\n",
       "\n",
       "    .dataframe tbody tr th {\n",
       "        vertical-align: top;\n",
       "    }\n",
       "\n",
       "    .dataframe thead th {\n",
       "        text-align: right;\n",
       "    }\n",
       "</style>\n",
       "<table border=\"1\" class=\"dataframe\">\n",
       "  <thead>\n",
       "    <tr style=\"text-align: right;\">\n",
       "      <th></th>\n",
       "      <th>Unnamed: 0</th>\n",
       "      <th>title</th>\n",
       "      <th>text</th>\n",
       "      <th>subject</th>\n",
       "      <th>date</th>\n",
       "      <th>target</th>\n",
       "    </tr>\n",
       "  </thead>\n",
       "  <tbody>\n",
       "    <tr>\n",
       "      <th>0</th>\n",
       "      <td>0</td>\n",
       "      <td>Ramaphosa's ANC election win lifts South Afric...</td>\n",
       "      <td>johannesburg reuters south african banking sto...</td>\n",
       "      <td>worldnews</td>\n",
       "      <td>December 19, 2017</td>\n",
       "      <td>1</td>\n",
       "    </tr>\n",
       "    <tr>\n",
       "      <th>1</th>\n",
       "      <td>1</td>\n",
       "      <td>VIGILANTE PIRATES INTERCEDE Where Government F...</td>\n",
       "      <td>like soldiers oden vigilante group reported fe...</td>\n",
       "      <td>Government News</td>\n",
       "      <td>Apr 1, 2016</td>\n",
       "      <td>0</td>\n",
       "    </tr>\n",
       "    <tr>\n",
       "      <th>2</th>\n",
       "      <td>2</td>\n",
       "      <td>SICK! DEMOCRAT ORGANIZER, Mayor DeBlasio Emplo...</td>\n",
       "      <td>last week huma abedin husband anthony weiner w...</td>\n",
       "      <td>left-news</td>\n",
       "      <td>May 28, 2017</td>\n",
       "      <td>0</td>\n",
       "    </tr>\n",
       "    <tr>\n",
       "      <th>3</th>\n",
       "      <td>3</td>\n",
       "      <td>Dennis Rodman talks of skiing friendship with ...</td>\n",
       "      <td>edinburgh reuters us basketball legend dennis ...</td>\n",
       "      <td>worldnews</td>\n",
       "      <td>September 6, 2017</td>\n",
       "      <td>1</td>\n",
       "    </tr>\n",
       "    <tr>\n",
       "      <th>4</th>\n",
       "      <td>4</td>\n",
       "      <td>New Hampshire Cops Intent On Protecting Sadis...</td>\n",
       "      <td>lynchings black people still happen jim crow c...</td>\n",
       "      <td>News</td>\n",
       "      <td>September 10, 2017</td>\n",
       "      <td>0</td>\n",
       "    </tr>\n",
       "  </tbody>\n",
       "</table>\n",
       "</div>"
      ],
      "text/plain": [
       "   Unnamed: 0                                              title  \\\n",
       "0           0  Ramaphosa's ANC election win lifts South Afric...   \n",
       "1           1  VIGILANTE PIRATES INTERCEDE Where Government F...   \n",
       "2           2  SICK! DEMOCRAT ORGANIZER, Mayor DeBlasio Emplo...   \n",
       "3           3  Dennis Rodman talks of skiing friendship with ...   \n",
       "4           4   New Hampshire Cops Intent On Protecting Sadis...   \n",
       "\n",
       "                                                text          subject  \\\n",
       "0  johannesburg reuters south african banking sto...        worldnews   \n",
       "1  like soldiers oden vigilante group reported fe...  Government News   \n",
       "2  last week huma abedin husband anthony weiner w...        left-news   \n",
       "3  edinburgh reuters us basketball legend dennis ...        worldnews   \n",
       "4  lynchings black people still happen jim crow c...             News   \n",
       "\n",
       "                 date  target  \n",
       "0  December 19, 2017        1  \n",
       "1         Apr 1, 2016       0  \n",
       "2        May 28, 2017       0  \n",
       "3  September 6, 2017        1  \n",
       "4  September 10, 2017       0  "
      ]
     },
     "execution_count": 68,
     "metadata": {},
     "output_type": "execute_result"
    }
   ],
   "source": [
    "train.head()"
   ]
  },
  {
   "cell_type": "code",
   "execution_count": 69,
   "metadata": {},
   "outputs": [],
   "source": [
    "train_raw = train\n",
    "test_raw = test\n",
    "\n",
    "train_copy = train.copy(deep = True)\n",
    "test_copy = test.copy(deep = True)"
   ]
  },
  {
   "cell_type": "markdown",
   "metadata": {},
   "source": [
    "### Raw"
   ]
  },
  {
   "cell_type": "code",
   "execution_count": 71,
   "metadata": {},
   "outputs": [
    {
     "data": {
      "text/plain": [
       "((44898, 199319), (804, 199319))"
      ]
     },
     "execution_count": 71,
     "metadata": {},
     "output_type": "execute_result"
    }
   ],
   "source": [
    "count_vectorizer = CountVectorizer()\n",
    "\n",
    "train_vectors = count_vectorizer.fit_transform(train_copy['text'])\n",
    "test_vectors = count_vectorizer.transform(test_copy['text'])\n",
    "\n",
    "train_vectors.shape, test_vectors.shape"
   ]
  },
  {
   "cell_type": "markdown",
   "metadata": {},
   "source": [
    "### Min_DF and Max_DF parameter"
   ]
  },
  {
   "cell_type": "code",
   "execution_count": 72,
   "metadata": {},
   "outputs": [
    {
     "data": {
      "text/plain": [
       "((44898, 107650), (804, 107650))"
      ]
     },
     "execution_count": 72,
     "metadata": {},
     "output_type": "execute_result"
    }
   ],
   "source": [
    "count_vectorizer = CountVectorizer(min_df = 2,max_df = 0.8)\n",
    "\n",
    "train_vectors = count_vectorizer.fit_transform(train_copy['text'])\n",
    "test_vectors = count_vectorizer.transform(test_copy['text'])\n",
    "\n",
    "train_vectors.shape, test_vectors.shape"
   ]
  },
  {
   "cell_type": "markdown",
   "metadata": {},
   "source": [
    "### N-grams"
   ]
  },
  {
   "cell_type": "code",
   "execution_count": 74,
   "metadata": {},
   "outputs": [
    {
     "data": {
      "text/plain": [
       "((44898, 4048261), (804, 4048261))"
      ]
     },
     "execution_count": 74,
     "metadata": {},
     "output_type": "execute_result"
    }
   ],
   "source": [
    "#No text preprocessing req. REGEX and Stopwords are already taken care of\n",
    "\n",
    "count_vectorizer = CountVectorizer(list(train_copy['text']), preprocessor = None,ngram_range = (1,2))\n",
    "\n",
    "train_vectors = count_vectorizer.fit_transform(train_copy['text'])\n",
    "test_vectors = count_vectorizer.transform(test_copy['text'])\n",
    "\n",
    "train_vectors.shape, test_vectors.shape"
   ]
  },
  {
   "cell_type": "code",
   "execution_count": 77,
   "metadata": {},
   "outputs": [
    {
     "data": {
      "text/plain": [
       "['johannesburg',\n",
       " 'reuters',\n",
       " 'south',\n",
       " 'african',\n",
       " 'banking',\n",
       " 'stocks',\n",
       " 'rallied',\n",
       " 'tuesday',\n",
       " 'buoyed',\n",
       " 'optimism']"
      ]
     },
     "execution_count": 77,
     "metadata": {},
     "output_type": "execute_result"
    }
   ],
   "source": [
    "list(count_vectorizer.vocabulary_)[:10]"
   ]
  },
  {
   "cell_type": "code",
   "execution_count": 79,
   "metadata": {},
   "outputs": [
    {
     "data": {
      "text/plain": [
       "((44898, 3848942), (804, 3848942))"
      ]
     },
     "execution_count": 79,
     "metadata": {},
     "output_type": "execute_result"
    }
   ],
   "source": [
    "# strict bigrams\n",
    "\n",
    "count_vectorizer = CountVectorizer(list(train_copy['text']),\n",
    "                                   preprocessor=None,\n",
    "                                   ngram_range=(2,2))\n",
    "\n",
    "train_vectors = count_vectorizer.fit_transform(train_copy['text'])\n",
    "test_vectors = count_vectorizer.transform(test_copy['text'])\n",
    "\n",
    "train_vectors.shape, test_vectors.shape"
   ]
  },
  {
   "cell_type": "code",
   "execution_count": 80,
   "metadata": {},
   "outputs": [
    {
     "data": {
      "text/plain": [
       "['johannesburg reuters',\n",
       " 'reuters south',\n",
       " 'south african',\n",
       " 'african banking',\n",
       " 'banking stocks',\n",
       " 'stocks rallied',\n",
       " 'rallied tuesday',\n",
       " 'tuesday buoyed',\n",
       " 'buoyed optimism',\n",
       " 'optimism newly']"
      ]
     },
     "execution_count": 80,
     "metadata": {},
     "output_type": "execute_result"
    }
   ],
   "source": [
    "list(count_vectorizer.vocabulary_)[:10]"
   ]
  },
  {
   "cell_type": "markdown",
   "metadata": {},
   "source": [
    "# New Trial Baseline"
   ]
  },
  {
   "cell_type": "code",
   "execution_count": 82,
   "metadata": {},
   "outputs": [],
   "source": [
    "count_vectorizer = CountVectorizer(ngram_range=(1,2))\n",
    "\n",
    "train_vectors = count_vectorizer.fit_transform(train_copy['text'])\n",
    "test_vectors = count_vectorizer.transform(test_copy['text'])\n",
    "\n",
    "X_train = train_vectors\n",
    "y_train = train_copy['target']"
   ]
  },
  {
   "cell_type": "code",
   "execution_count": 83,
   "metadata": {},
   "outputs": [
    {
     "name": "stdout",
     "output_type": "stream",
     "text": [
      "[0.99673203 0.99650105 0.99789818 0.99603082 0.99719953]\n",
      "0.9968723214049511\n"
     ]
    }
   ],
   "source": [
    "from sklearn.linear_model import LogisticRegression\n",
    "clf = LogisticRegression(C=1.0)\n",
    "lr_scores = model_selection.cross_val_score(clf, X_train, y_train, cv=5, scoring=\"f1\")\n",
    "\n",
    "print(lr_scores)\n",
    "print(lr_scores.sum()/5)"
   ]
  },
  {
   "cell_type": "markdown",
   "metadata": {},
   "source": [
    "### Testing on external dummy test data"
   ]
  },
  {
   "cell_type": "code",
   "execution_count": 84,
   "metadata": {},
   "outputs": [
    {
     "data": {
      "text/plain": [
       "LogisticRegression(C=1.0, class_weight=None, dual=False, fit_intercept=True,\n",
       "                   intercept_scaling=1, l1_ratio=None, max_iter=100,\n",
       "                   multi_class='auto', n_jobs=None, penalty='l2',\n",
       "                   random_state=None, solver='lbfgs', tol=0.0001, verbose=0,\n",
       "                   warm_start=False)"
      ]
     },
     "execution_count": 84,
     "metadata": {},
     "output_type": "execute_result"
    }
   ],
   "source": [
    "clf.fit(train_vectors, y_train)"
   ]
  },
  {
   "cell_type": "code",
   "execution_count": 90,
   "metadata": {},
   "outputs": [
    {
     "name": "stdout",
     "output_type": "stream",
     "text": [
      "0.4915254237288135\n"
     ]
    }
   ],
   "source": [
    "from sklearn.metrics import f1_score, accuracy_score\n",
    "\n",
    "y_test = test_copy['target']\n",
    "preds = clf.predict(test_vectors)\n",
    "\n",
    "print(f1_score(y_test,preds))"
   ]
  },
  {
   "cell_type": "markdown",
   "metadata": {},
   "source": [
    "# TF-IDF"
   ]
  },
  {
   "cell_type": "code",
   "execution_count": 92,
   "metadata": {},
   "outputs": [],
   "source": [
    "# word level\n",
    "tfidf = TfidfVectorizer(analyzer='word',\n",
    "                        token_pattern=r'\\w{1,}',\n",
    "                        max_features=5000)\n",
    "\n",
    "train_tfidf = tfidf.fit_transform(train_copy['text'])\n",
    "test_tfidf = tfidf.transform(test_copy[\"text\"])"
   ]
  },
  {
   "cell_type": "code",
   "execution_count": 93,
   "metadata": {},
   "outputs": [],
   "source": [
    "#ngram level\n",
    "tfidf = TfidfVectorizer(analyzer='word',\n",
    "                        ngram_range=(2,3),\n",
    "                        token_pattern=r'\\w{1,}',\n",
    "                        max_features=5000)\n",
    "\n",
    "train_tfidf = tfidf.fit_transform(train_copy['text'])\n",
    "test_tfidf = tfidf.transform(test_copy[\"text\"])"
   ]
  },
  {
   "cell_type": "code",
   "execution_count": 94,
   "metadata": {},
   "outputs": [],
   "source": [
    "# characters level\n",
    "tfidf = TfidfVectorizer(analyzer='char',\n",
    "                        ngram_range=(2,3),\n",
    "                        token_pattern=r'\\w{1,}',\n",
    "                        max_features=5000)\n",
    "\n",
    "train_tfidf = tfidf.fit_transform(train_copy['text'])\n",
    "test_tfidf = tfidf.transform(test_copy[\"text\"])"
   ]
  },
  {
   "cell_type": "markdown",
   "metadata": {},
   "source": [
    "# Baseline with TF-IDF"
   ]
  },
  {
   "cell_type": "code",
   "execution_count": 95,
   "metadata": {},
   "outputs": [],
   "source": [
    "train_tfidf = tfidf.fit_transform(train_copy['text'])\n",
    "test_tfidf = tfidf.transform(test_copy[\"text\"])"
   ]
  },
  {
   "cell_type": "code",
   "execution_count": 96,
   "metadata": {},
   "outputs": [
    {
     "name": "stdout",
     "output_type": "stream",
     "text": [
      "[0.97816696 0.98104872 0.98030533 0.97964406 0.97852583]\n",
      "0.9795381776930858\n"
     ]
    }
   ],
   "source": [
    "clf = LogisticRegression(C=1.0)\n",
    "lr_scores = model_selection.cross_val_score(clf, \n",
    "                                            train_tfidf, \n",
    "                                            train_copy[\"target\"], \n",
    "                                            cv=5, scoring=\"f1\")\n",
    "\n",
    "print(lr_scores)\n",
    "print(lr_scores.sum()/5)"
   ]
  },
  {
   "cell_type": "code",
   "execution_count": 97,
   "metadata": {},
   "outputs": [
    {
     "data": {
      "text/plain": [
       "LogisticRegression(C=1.0, class_weight=None, dual=False, fit_intercept=True,\n",
       "                   intercept_scaling=1, l1_ratio=None, max_iter=100,\n",
       "                   multi_class='auto', n_jobs=None, penalty='l2',\n",
       "                   random_state=None, solver='lbfgs', tol=0.0001, verbose=0,\n",
       "                   warm_start=False)"
      ]
     },
     "execution_count": 97,
     "metadata": {},
     "output_type": "execute_result"
    }
   ],
   "source": [
    "clf.fit(train_tfidf, train_copy[\"target\"])"
   ]
  },
  {
   "cell_type": "code",
   "execution_count": 98,
   "metadata": {},
   "outputs": [
    {
     "name": "stdout",
     "output_type": "stream",
     "text": [
      "0.6178535606820461\n"
     ]
    }
   ],
   "source": [
    "preds_tfidf = clf.predict(test_tfidf)\n",
    "\n",
    "print(f1_score(y_test,preds_tfidf))"
   ]
  }
 ],
 "metadata": {
  "kernelspec": {
   "display_name": "Python 3.7.7 64-bit ('gpu': conda)",
   "language": "python",
   "name": "python37764bitgpuconda08766899e99640f8bf22a5cda132f1fd"
  },
  "language_info": {
   "codemirror_mode": {
    "name": "ipython",
    "version": 3
   },
   "file_extension": ".py",
   "mimetype": "text/x-python",
   "name": "python",
   "nbconvert_exporter": "python",
   "pygments_lexer": "ipython3",
   "version": "3.7.7"
  }
 },
 "nbformat": 4,
 "nbformat_minor": 4
}
