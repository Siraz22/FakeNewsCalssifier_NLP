{
 "cells": [
  {
   "cell_type": "code",
   "execution_count": 15,
   "metadata": {},
   "outputs": [],
   "source": [
    "import pandas as pd\n",
    "import numpy as np\n",
    "\n",
    "import nltk\n",
    "from nltk.corpus import stopwords\n",
    "import re\n",
    "import string\n",
    "\n",
    "import xgboost as xgb\n",
    "from xgboost import XGBClassifier\n",
    "from sklearn.linear_model import LogisticRegression\n",
    "from sklearn.naive_bayes import MultinomialNB\n",
    "\n",
    "#sklearn\n",
    "from sklearn import model_selection\n",
    "from sklearn.feature_extraction.text import CountVectorizer,TfidfVectorizer\n",
    "from sklearn.metrics import f1_score\n",
    "from sklearn import preprocessing, decomposition, model_selection, metrics, pipeline\n",
    "from sklearn.model_selection import GridSearchCV,StratifiedKFold,RandomizedSearchCV\n",
    "\n",
    "import matplotlib.pyplot as plt\n",
    "import seaborn as sns\n",
    "\n",
    "import os\n",
    "\n",
    "import warnings\n",
    "warnings.filterwarnings('ignore')"
   ]
  },
  {
   "cell_type": "code",
   "execution_count": 21,
   "metadata": {},
   "outputs": [],
   "source": [
    "train = pd.read_csv('Datasets\\Single Source\\Treated\\combined_train_treated.csv')\n",
    "test = pd.read_csv('Datasets\\Single Source\\Treated\\combined_test_treated.csv')"
   ]
  },
  {
   "cell_type": "code",
   "execution_count": 17,
   "metadata": {},
   "outputs": [],
   "source": [
    "train_copy = train.copy(deep = True)\n",
    "test_copy = test.copy(deep = True)"
   ]
  },
  {
   "cell_type": "code",
   "execution_count": 18,
   "metadata": {},
   "outputs": [
    {
     "data": {
      "text/html": [
       "<div>\n",
       "<style scoped>\n",
       "    .dataframe tbody tr th:only-of-type {\n",
       "        vertical-align: middle;\n",
       "    }\n",
       "\n",
       "    .dataframe tbody tr th {\n",
       "        vertical-align: top;\n",
       "    }\n",
       "\n",
       "    .dataframe thead th {\n",
       "        text-align: right;\n",
       "    }\n",
       "</style>\n",
       "<table border=\"1\" class=\"dataframe\">\n",
       "  <thead>\n",
       "    <tr style=\"text-align: right;\">\n",
       "      <th></th>\n",
       "      <th>Unnamed: 0</th>\n",
       "      <th>title</th>\n",
       "      <th>text</th>\n",
       "      <th>subject</th>\n",
       "      <th>date</th>\n",
       "      <th>target</th>\n",
       "      <th>publisher</th>\n",
       "    </tr>\n",
       "  </thead>\n",
       "  <tbody>\n",
       "    <tr>\n",
       "      <th>0</th>\n",
       "      <td>0</td>\n",
       "      <td>GUESS WHO PAID FOR FAMILY OF GOV DEPENDENT MUS...</td>\n",
       "      <td>guess paid family gov dependent muslim terrori...</td>\n",
       "      <td>politics</td>\n",
       "      <td>Apr 24, 2015</td>\n",
       "      <td>0</td>\n",
       "      <td>NaN</td>\n",
       "    </tr>\n",
       "    <tr>\n",
       "      <th>1</th>\n",
       "      <td>1</td>\n",
       "      <td>Defector says thousands of Islamic State fight...</td>\n",
       "      <td>defector says thousands islamic state fighters...</td>\n",
       "      <td>worldnews</td>\n",
       "      <td>December 7, 2017</td>\n",
       "      <td>1</td>\n",
       "      <td>ANKARA (Reuters)</td>\n",
       "    </tr>\n",
       "    <tr>\n",
       "      <th>2</th>\n",
       "      <td>2</td>\n",
       "      <td>Thai king's remains laid to rest at end of fiv...</td>\n",
       "      <td>thai kings remains laid rest end fiveday cerem...</td>\n",
       "      <td>worldnews</td>\n",
       "      <td>October 29, 2017</td>\n",
       "      <td>1</td>\n",
       "      <td>BANGKOK (Reuters)</td>\n",
       "    </tr>\n",
       "    <tr>\n",
       "      <th>3</th>\n",
       "      <td>3</td>\n",
       "      <td>'I am sorry,' British PM May says of botched e...</td>\n",
       "      <td>sorry british pm may says botched election bri...</td>\n",
       "      <td>worldnews</td>\n",
       "      <td>October 1, 2017</td>\n",
       "      <td>1</td>\n",
       "      <td>MANCHESTER, England (Reuters)</td>\n",
       "    </tr>\n",
       "    <tr>\n",
       "      <th>4</th>\n",
       "      <td>4</td>\n",
       "      <td>It’s Bad Enough Canadian Magazine Puts A Smili...</td>\n",
       "      <td>bad enough canadian magazine puts smiling terr...</td>\n",
       "      <td>politics</td>\n",
       "      <td>Nov 7, 2015</td>\n",
       "      <td>0</td>\n",
       "      <td>NaN</td>\n",
       "    </tr>\n",
       "  </tbody>\n",
       "</table>\n",
       "</div>"
      ],
      "text/plain": [
       "   Unnamed: 0                                              title  \\\n",
       "0           0  GUESS WHO PAID FOR FAMILY OF GOV DEPENDENT MUS...   \n",
       "1           1  Defector says thousands of Islamic State fight...   \n",
       "2           2  Thai king's remains laid to rest at end of fiv...   \n",
       "3           3  'I am sorry,' British PM May says of botched e...   \n",
       "4           4  It’s Bad Enough Canadian Magazine Puts A Smili...   \n",
       "\n",
       "                                                text    subject  \\\n",
       "0  guess paid family gov dependent muslim terrori...   politics   \n",
       "1  defector says thousands islamic state fighters...  worldnews   \n",
       "2  thai kings remains laid rest end fiveday cerem...  worldnews   \n",
       "3  sorry british pm may says botched election bri...  worldnews   \n",
       "4  bad enough canadian magazine puts smiling terr...   politics   \n",
       "\n",
       "                date  target                      publisher  \n",
       "0       Apr 24, 2015       0                            NaN  \n",
       "1  December 7, 2017        1               ANKARA (Reuters)  \n",
       "2  October 29, 2017        1              BANGKOK (Reuters)  \n",
       "3   October 1, 2017        1  MANCHESTER, England (Reuters)  \n",
       "4        Nov 7, 2015       0                            NaN  "
      ]
     },
     "execution_count": 18,
     "metadata": {},
     "output_type": "execute_result"
    }
   ],
   "source": [
    "train_copy.head()"
   ]
  },
  {
   "cell_type": "code",
   "execution_count": 19,
   "metadata": {},
   "outputs": [
    {
     "data": {
      "text/html": [
       "<div>\n",
       "<style scoped>\n",
       "    .dataframe tbody tr th:only-of-type {\n",
       "        vertical-align: middle;\n",
       "    }\n",
       "\n",
       "    .dataframe tbody tr th {\n",
       "        vertical-align: top;\n",
       "    }\n",
       "\n",
       "    .dataframe thead th {\n",
       "        text-align: right;\n",
       "    }\n",
       "</style>\n",
       "<table border=\"1\" class=\"dataframe\">\n",
       "  <thead>\n",
       "    <tr style=\"text-align: right;\">\n",
       "      <th></th>\n",
       "      <th>Unnamed: 0</th>\n",
       "      <th>title</th>\n",
       "      <th>text</th>\n",
       "      <th>subject</th>\n",
       "      <th>date</th>\n",
       "      <th>target</th>\n",
       "      <th>publisher</th>\n",
       "    </tr>\n",
       "  </thead>\n",
       "  <tbody>\n",
       "    <tr>\n",
       "      <th>0</th>\n",
       "      <td>0</td>\n",
       "      <td>Boiler Room EP #69 – CULTure Club</td>\n",
       "      <td>boiler room ep culture club tune alternate cur...</td>\n",
       "      <td>US_News</td>\n",
       "      <td>August 18, 2016</td>\n",
       "      <td>0</td>\n",
       "      <td>NaN</td>\n",
       "    </tr>\n",
       "    <tr>\n",
       "      <th>1</th>\n",
       "      <td>1</td>\n",
       "      <td>WOW! BLACK LIVES MATTER MOB Celebrating NYC Po...</td>\n",
       "      <td>wow black lives matter mob celebrating nyc pol...</td>\n",
       "      <td>left-news</td>\n",
       "      <td>Aug 2, 2016</td>\n",
       "      <td>0</td>\n",
       "      <td>NaN</td>\n",
       "    </tr>\n",
       "    <tr>\n",
       "      <th>2</th>\n",
       "      <td>2</td>\n",
       "      <td>Trump visit to Britain still unfixed nine mont...</td>\n",
       "      <td>trump visit britain still unfixed nine months ...</td>\n",
       "      <td>worldnews</td>\n",
       "      <td>September 8, 2017</td>\n",
       "      <td>1</td>\n",
       "      <td>LONDON (Reuters)</td>\n",
       "    </tr>\n",
       "    <tr>\n",
       "      <th>3</th>\n",
       "      <td>3</td>\n",
       "      <td>Henningsen: Obama White House Colluded with Fa...</td>\n",
       "      <td>henningsen obama white house colluded facebook...</td>\n",
       "      <td>US_News</td>\n",
       "      <td>October 6, 2017</td>\n",
       "      <td>0</td>\n",
       "      <td>NaN</td>\n",
       "    </tr>\n",
       "    <tr>\n",
       "      <th>4</th>\n",
       "      <td>4</td>\n",
       "      <td>UN OFFICIAL TIED TO CLINTONS Set To Face Trial...</td>\n",
       "      <td>un official tied clintons set face trial found...</td>\n",
       "      <td>left-news</td>\n",
       "      <td>Jun 26, 2016</td>\n",
       "      <td>0</td>\n",
       "      <td>NaN</td>\n",
       "    </tr>\n",
       "  </tbody>\n",
       "</table>\n",
       "</div>"
      ],
      "text/plain": [
       "   Unnamed: 0                                              title  \\\n",
       "0           0                  Boiler Room EP #69 – CULTure Club   \n",
       "1           1  WOW! BLACK LIVES MATTER MOB Celebrating NYC Po...   \n",
       "2           2  Trump visit to Britain still unfixed nine mont...   \n",
       "3           3  Henningsen: Obama White House Colluded with Fa...   \n",
       "4           4  UN OFFICIAL TIED TO CLINTONS Set To Face Trial...   \n",
       "\n",
       "                                                text    subject  \\\n",
       "0  boiler room ep culture club tune alternate cur...    US_News   \n",
       "1  wow black lives matter mob celebrating nyc pol...  left-news   \n",
       "2  trump visit britain still unfixed nine months ...  worldnews   \n",
       "3  henningsen obama white house colluded facebook...    US_News   \n",
       "4  un official tied clintons set face trial found...  left-news   \n",
       "\n",
       "                 date  target         publisher  \n",
       "0     August 18, 2016       0               NaN  \n",
       "1         Aug 2, 2016       0               NaN  \n",
       "2  September 8, 2017        1  LONDON (Reuters)  \n",
       "3     October 6, 2017       0               NaN  \n",
       "4        Jun 26, 2016       0               NaN  "
      ]
     },
     "execution_count": 19,
     "metadata": {},
     "output_type": "execute_result"
    }
   ],
   "source": [
    "test_copy.head()"
   ]
  },
  {
   "cell_type": "code",
   "execution_count": 34,
   "metadata": {},
   "outputs": [
    {
     "data": {
      "text/plain": [
       "Unnamed: 0        0\n",
       "title             0\n",
       "text              0\n",
       "subject           0\n",
       "date              0\n",
       "target            0\n",
       "publisher     20000\n",
       "dtype: int64"
      ]
     },
     "execution_count": 34,
     "metadata": {},
     "output_type": "execute_result"
    }
   ],
   "source": [
    "train_copy.isnull().sum()"
   ]
  },
  {
   "cell_type": "code",
   "execution_count": 35,
   "metadata": {},
   "outputs": [
    {
     "data": {
      "text/plain": [
       "Unnamed: 0       0\n",
       "title            0\n",
       "text             0\n",
       "subject          0\n",
       "date             0\n",
       "target           0\n",
       "publisher     3481\n",
       "dtype: int64"
      ]
     },
     "execution_count": 35,
     "metadata": {},
     "output_type": "execute_result"
    }
   ],
   "source": [
    "test_copy.isnull().sum()"
   ]
  },
  {
   "cell_type": "code",
   "execution_count": 33,
   "metadata": {},
   "outputs": [],
   "source": [
    "train_copy['text'].fillna('No Text', inplace = True)\n",
    "test_copy['text'].fillna('No Text', inplace = True)"
   ]
  },
  {
   "cell_type": "markdown",
   "metadata": {},
   "source": [
    "## Bag of Words"
   ]
  },
  {
   "cell_type": "code",
   "execution_count": 40,
   "metadata": {},
   "outputs": [],
   "source": [
    "count_vectorizer = CountVectorizer()\n",
    "train_vectors = count_vectorizer.fit_transform(train_copy['text'])"
   ]
  },
  {
   "cell_type": "markdown",
   "metadata": {},
   "source": [
    "### TF-IDF Features"
   ]
  },
  {
   "cell_type": "code",
   "execution_count": 41,
   "metadata": {},
   "outputs": [],
   "source": [
    "tfidf = TfidfVectorizer(min_df = 2, max_df = 0.5, ngram_range =(1,2))\n",
    "train_tfidf = tfidf.fit_transform(train_copy['text'])"
   ]
  },
  {
   "cell_type": "markdown",
   "metadata": {},
   "source": [
    "# Text Classifier"
   ]
  },
  {
   "cell_type": "code",
   "execution_count": 42,
   "metadata": {},
   "outputs": [
    {
     "name": "stdout",
     "output_type": "stream",
     "text": [
      "[0.98341853 0.98436523 0.98626717 0.98758309 0.98436914]\n",
      "0.985200630408795\n"
     ]
    }
   ],
   "source": [
    "clf = LogisticRegression(C = 1.0)\n",
    "scores = model_selection.cross_val_score(clf, train_vectors, \n",
    "                                         train_copy['target'],\n",
    "                                         cv = 5, scoring = 'f1')\n",
    "print(scores)\n",
    "print(sum(scores)/5)"
   ]
  },
  {
   "cell_type": "code",
   "execution_count": 43,
   "metadata": {},
   "outputs": [
    {
     "name": "stdout",
     "output_type": "stream",
     "text": [
      "[0.97840469 0.97722723 0.97908887 0.98036764 0.97856874]\n",
      "0.985200630408795\n"
     ]
    }
   ],
   "source": [
    "clf_tfidf = LogisticRegression(C = 1.0)\n",
    "scores_tfidf = model_selection.cross_val_score(clf_tfidf, train_tfidf, \n",
    "                                         train['target'],\n",
    "                                        cv = 5, scoring = 'f1')\n",
    "print(scores_tfidf)\n",
    "print(sum(scores)/5)"
   ]
  },
  {
   "cell_type": "markdown",
   "metadata": {},
   "source": [
    "### On test"
   ]
  },
  {
   "cell_type": "code",
   "execution_count": 45,
   "metadata": {},
   "outputs": [],
   "source": [
    "test_vectors = count_vectorizer.transform(test_copy['text'])"
   ]
  },
  {
   "cell_type": "code",
   "execution_count": 46,
   "metadata": {},
   "outputs": [],
   "source": [
    "test_tfidf = tfidf.transform(test_copy['text'])"
   ]
  },
  {
   "cell_type": "code",
   "execution_count": 47,
   "metadata": {},
   "outputs": [
    {
     "data": {
      "text/plain": [
       "LogisticRegression(C=1.0, class_weight=None, dual=False, fit_intercept=True,\n",
       "                   intercept_scaling=1, l1_ratio=None, max_iter=100,\n",
       "                   multi_class='auto', n_jobs=None, penalty='l2',\n",
       "                   random_state=None, solver='lbfgs', tol=0.0001, verbose=0,\n",
       "                   warm_start=False)"
      ]
     },
     "execution_count": 47,
     "metadata": {},
     "output_type": "execute_result"
    }
   ],
   "source": [
    "#Fit using whole train samples\n",
    "\n",
    "clf.fit(train_vectors, train_copy['target'])"
   ]
  },
  {
   "cell_type": "markdown",
   "metadata": {},
   "source": [
    "#### Without TFIDF"
   ]
  },
  {
   "cell_type": "code",
   "execution_count": 48,
   "metadata": {},
   "outputs": [
    {
     "name": "stdout",
     "output_type": "stream",
     "text": [
      "0.9284525790349418\n"
     ]
    }
   ],
   "source": [
    "y_test = test_copy['target']\n",
    "preds = clf.predict(test_vectors)\n",
    "\n",
    "print(f1_score(y_test,preds))"
   ]
  },
  {
   "cell_type": "markdown",
   "metadata": {},
   "source": [
    "#### TFIDF Result"
   ]
  },
  {
   "cell_type": "code",
   "execution_count": 50,
   "metadata": {},
   "outputs": [
    {
     "name": "stdout",
     "output_type": "stream",
     "text": [
      "0.9036845507433744\n"
     ]
    }
   ],
   "source": [
    "clf_tfidf.fit(train_tfidf,train_copy['target'])\n",
    "\n",
    "pred_tfidf = clf_tfidf.predict(test_tfidf)\n",
    "print(f1_score(test_copy['target'],pred_tfidf))"
   ]
  }
 ],
 "metadata": {
  "kernelspec": {
   "display_name": "Python 3.7.7 64-bit ('gpu': conda)",
   "language": "python",
   "name": "python37764bitgpuconda08766899e99640f8bf22a5cda132f1fd"
  },
  "language_info": {
   "codemirror_mode": {
    "name": "ipython",
    "version": 3
   },
   "file_extension": ".py",
   "mimetype": "text/x-python",
   "name": "python",
   "nbconvert_exporter": "python",
   "pygments_lexer": "ipython3",
   "version": "3.7.7"
  }
 },
 "nbformat": 4,
 "nbformat_minor": 4
}
