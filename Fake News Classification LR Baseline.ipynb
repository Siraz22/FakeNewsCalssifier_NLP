{
 "cells": [
  {
   "cell_type": "code",
   "execution_count": 1,
   "metadata": {},
   "outputs": [],
   "source": [
    "import pandas as pd\n",
    "import numpy as np\n",
    "\n",
    "import nltk\n",
    "from nltk.corpus import stopwords\n",
    "import re\n",
    "import string\n",
    "\n",
    "import xgboost as xgb\n",
    "from xgboost import XGBClassifier\n",
    "from sklearn.linear_model import LogisticRegression\n",
    "from sklearn.naive_bayes import MultinomialNB\n",
    "\n",
    "#sklearn\n",
    "from sklearn import model_selection\n",
    "from sklearn.feature_extraction.text import CountVectorizer,TfidfVectorizer\n",
    "from sklearn.metrics import f1_score\n",
    "from sklearn import preprocessing, decomposition, model_selection, metrics, pipeline\n",
    "from sklearn.model_selection import GridSearchCV,StratifiedKFold,RandomizedSearchCV\n",
    "\n",
    "import matplotlib.pyplot as plt\n",
    "import seaborn as sns\n",
    "\n",
    "import os\n",
    "\n",
    "import warnings\n",
    "warnings.filterwarnings('ignore')"
   ]
  },
  {
   "cell_type": "code",
   "execution_count": 2,
   "metadata": {},
   "outputs": [],
   "source": [
    "true_data = pd.read_csv('True.csv')\n",
    "fake_data = pd.read_csv('Fake.csv')"
   ]
  },
  {
   "cell_type": "code",
   "execution_count": 3,
   "metadata": {},
   "outputs": [],
   "source": [
    "true_data['target'] = 1\n",
    "fake_data['target'] = 0"
   ]
  },
  {
   "cell_type": "code",
   "execution_count": 4,
   "metadata": {},
   "outputs": [],
   "source": [
    "combined = pd.concat([true_data,fake_data],axis = 'rows')"
   ]
  },
  {
   "cell_type": "code",
   "execution_count": 5,
   "metadata": {},
   "outputs": [
    {
     "data": {
      "text/html": [
       "<div>\n",
       "<style scoped>\n",
       "    .dataframe tbody tr th:only-of-type {\n",
       "        vertical-align: middle;\n",
       "    }\n",
       "\n",
       "    .dataframe tbody tr th {\n",
       "        vertical-align: top;\n",
       "    }\n",
       "\n",
       "    .dataframe thead th {\n",
       "        text-align: right;\n",
       "    }\n",
       "</style>\n",
       "<table border=\"1\" class=\"dataframe\">\n",
       "  <thead>\n",
       "    <tr style=\"text-align: right;\">\n",
       "      <th></th>\n",
       "      <th>title</th>\n",
       "      <th>text</th>\n",
       "      <th>subject</th>\n",
       "      <th>date</th>\n",
       "      <th>target</th>\n",
       "    </tr>\n",
       "  </thead>\n",
       "  <tbody>\n",
       "    <tr>\n",
       "      <th>0</th>\n",
       "      <td>As U.S. budget fight looms, Republicans flip t...</td>\n",
       "      <td>WASHINGTON (Reuters) - The head of a conservat...</td>\n",
       "      <td>politicsNews</td>\n",
       "      <td>December 31, 2017</td>\n",
       "      <td>1</td>\n",
       "    </tr>\n",
       "    <tr>\n",
       "      <th>1</th>\n",
       "      <td>U.S. military to accept transgender recruits o...</td>\n",
       "      <td>WASHINGTON (Reuters) - Transgender people will...</td>\n",
       "      <td>politicsNews</td>\n",
       "      <td>December 29, 2017</td>\n",
       "      <td>1</td>\n",
       "    </tr>\n",
       "    <tr>\n",
       "      <th>2</th>\n",
       "      <td>Senior U.S. Republican senator: 'Let Mr. Muell...</td>\n",
       "      <td>WASHINGTON (Reuters) - The special counsel inv...</td>\n",
       "      <td>politicsNews</td>\n",
       "      <td>December 31, 2017</td>\n",
       "      <td>1</td>\n",
       "    </tr>\n",
       "    <tr>\n",
       "      <th>3</th>\n",
       "      <td>FBI Russia probe helped by Australian diplomat...</td>\n",
       "      <td>WASHINGTON (Reuters) - Trump campaign adviser ...</td>\n",
       "      <td>politicsNews</td>\n",
       "      <td>December 30, 2017</td>\n",
       "      <td>1</td>\n",
       "    </tr>\n",
       "    <tr>\n",
       "      <th>4</th>\n",
       "      <td>Trump wants Postal Service to charge 'much mor...</td>\n",
       "      <td>SEATTLE/WASHINGTON (Reuters) - President Donal...</td>\n",
       "      <td>politicsNews</td>\n",
       "      <td>December 29, 2017</td>\n",
       "      <td>1</td>\n",
       "    </tr>\n",
       "    <tr>\n",
       "      <th>...</th>\n",
       "      <td>...</td>\n",
       "      <td>...</td>\n",
       "      <td>...</td>\n",
       "      <td>...</td>\n",
       "      <td>...</td>\n",
       "    </tr>\n",
       "    <tr>\n",
       "      <th>23476</th>\n",
       "      <td>McPain: John McCain Furious That Iran Treated ...</td>\n",
       "      <td>21st Century Wire says As 21WIRE reported earl...</td>\n",
       "      <td>Middle-east</td>\n",
       "      <td>January 16, 2016</td>\n",
       "      <td>0</td>\n",
       "    </tr>\n",
       "    <tr>\n",
       "      <th>23477</th>\n",
       "      <td>JUSTICE? Yahoo Settles E-mail Privacy Class-ac...</td>\n",
       "      <td>21st Century Wire says It s a familiar theme. ...</td>\n",
       "      <td>Middle-east</td>\n",
       "      <td>January 16, 2016</td>\n",
       "      <td>0</td>\n",
       "    </tr>\n",
       "    <tr>\n",
       "      <th>23478</th>\n",
       "      <td>Sunnistan: US and Allied ‘Safe Zone’ Plan to T...</td>\n",
       "      <td>Patrick Henningsen  21st Century WireRemember ...</td>\n",
       "      <td>Middle-east</td>\n",
       "      <td>January 15, 2016</td>\n",
       "      <td>0</td>\n",
       "    </tr>\n",
       "    <tr>\n",
       "      <th>23479</th>\n",
       "      <td>How to Blow $700 Million: Al Jazeera America F...</td>\n",
       "      <td>21st Century Wire says Al Jazeera America will...</td>\n",
       "      <td>Middle-east</td>\n",
       "      <td>January 14, 2016</td>\n",
       "      <td>0</td>\n",
       "    </tr>\n",
       "    <tr>\n",
       "      <th>23480</th>\n",
       "      <td>10 U.S. Navy Sailors Held by Iranian Military ...</td>\n",
       "      <td>21st Century Wire says As 21WIRE predicted in ...</td>\n",
       "      <td>Middle-east</td>\n",
       "      <td>January 12, 2016</td>\n",
       "      <td>0</td>\n",
       "    </tr>\n",
       "  </tbody>\n",
       "</table>\n",
       "<p>44898 rows × 5 columns</p>\n",
       "</div>"
      ],
      "text/plain": [
       "                                                   title  \\\n",
       "0      As U.S. budget fight looms, Republicans flip t...   \n",
       "1      U.S. military to accept transgender recruits o...   \n",
       "2      Senior U.S. Republican senator: 'Let Mr. Muell...   \n",
       "3      FBI Russia probe helped by Australian diplomat...   \n",
       "4      Trump wants Postal Service to charge 'much mor...   \n",
       "...                                                  ...   \n",
       "23476  McPain: John McCain Furious That Iran Treated ...   \n",
       "23477  JUSTICE? Yahoo Settles E-mail Privacy Class-ac...   \n",
       "23478  Sunnistan: US and Allied ‘Safe Zone’ Plan to T...   \n",
       "23479  How to Blow $700 Million: Al Jazeera America F...   \n",
       "23480  10 U.S. Navy Sailors Held by Iranian Military ...   \n",
       "\n",
       "                                                    text       subject  \\\n",
       "0      WASHINGTON (Reuters) - The head of a conservat...  politicsNews   \n",
       "1      WASHINGTON (Reuters) - Transgender people will...  politicsNews   \n",
       "2      WASHINGTON (Reuters) - The special counsel inv...  politicsNews   \n",
       "3      WASHINGTON (Reuters) - Trump campaign adviser ...  politicsNews   \n",
       "4      SEATTLE/WASHINGTON (Reuters) - President Donal...  politicsNews   \n",
       "...                                                  ...           ...   \n",
       "23476  21st Century Wire says As 21WIRE reported earl...   Middle-east   \n",
       "23477  21st Century Wire says It s a familiar theme. ...   Middle-east   \n",
       "23478  Patrick Henningsen  21st Century WireRemember ...   Middle-east   \n",
       "23479  21st Century Wire says Al Jazeera America will...   Middle-east   \n",
       "23480  21st Century Wire says As 21WIRE predicted in ...   Middle-east   \n",
       "\n",
       "                     date  target  \n",
       "0      December 31, 2017        1  \n",
       "1      December 29, 2017        1  \n",
       "2      December 31, 2017        1  \n",
       "3      December 30, 2017        1  \n",
       "4      December 29, 2017        1  \n",
       "...                   ...     ...  \n",
       "23476    January 16, 2016       0  \n",
       "23477    January 16, 2016       0  \n",
       "23478    January 15, 2016       0  \n",
       "23479    January 14, 2016       0  \n",
       "23480    January 12, 2016       0  \n",
       "\n",
       "[44898 rows x 5 columns]"
      ]
     },
     "execution_count": 5,
     "metadata": {},
     "output_type": "execute_result"
    }
   ],
   "source": [
    "combined"
   ]
  },
  {
   "cell_type": "code",
   "execution_count": 6,
   "metadata": {},
   "outputs": [],
   "source": [
    "combined = combined.sample(frac = 1).reset_index(drop = True)"
   ]
  },
  {
   "cell_type": "code",
   "execution_count": 7,
   "metadata": {},
   "outputs": [
    {
     "data": {
      "text/html": [
       "<div>\n",
       "<style scoped>\n",
       "    .dataframe tbody tr th:only-of-type {\n",
       "        vertical-align: middle;\n",
       "    }\n",
       "\n",
       "    .dataframe tbody tr th {\n",
       "        vertical-align: top;\n",
       "    }\n",
       "\n",
       "    .dataframe thead th {\n",
       "        text-align: right;\n",
       "    }\n",
       "</style>\n",
       "<table border=\"1\" class=\"dataframe\">\n",
       "  <thead>\n",
       "    <tr style=\"text-align: right;\">\n",
       "      <th></th>\n",
       "      <th>title</th>\n",
       "      <th>text</th>\n",
       "      <th>subject</th>\n",
       "      <th>date</th>\n",
       "      <th>target</th>\n",
       "    </tr>\n",
       "  </thead>\n",
       "  <tbody>\n",
       "    <tr>\n",
       "      <th>0</th>\n",
       "      <td>Ramaphosa's ANC election win lifts South Afric...</td>\n",
       "      <td>JOHANNESBURG (Reuters) - South African banking...</td>\n",
       "      <td>worldnews</td>\n",
       "      <td>December 19, 2017</td>\n",
       "      <td>1</td>\n",
       "    </tr>\n",
       "    <tr>\n",
       "      <th>1</th>\n",
       "      <td>VIGILANTE PIRATES INTERCEDE Where Government F...</td>\n",
       "      <td>Like the Soldiers of Oden vigilante group we r...</td>\n",
       "      <td>Government News</td>\n",
       "      <td>Apr 1, 2016</td>\n",
       "      <td>0</td>\n",
       "    </tr>\n",
       "    <tr>\n",
       "      <th>2</th>\n",
       "      <td>SICK! DEMOCRAT ORGANIZER, Mayor DeBlasio Emplo...</td>\n",
       "      <td>Last week it was Huma Abedin s husband Anthony...</td>\n",
       "      <td>left-news</td>\n",
       "      <td>May 28, 2017</td>\n",
       "      <td>0</td>\n",
       "    </tr>\n",
       "    <tr>\n",
       "      <th>3</th>\n",
       "      <td>Dennis Rodman talks of skiing friendship with ...</td>\n",
       "      <td>EDINBURGH (Reuters) - U.S. basketball legend D...</td>\n",
       "      <td>worldnews</td>\n",
       "      <td>September 6, 2017</td>\n",
       "      <td>1</td>\n",
       "    </tr>\n",
       "    <tr>\n",
       "      <th>4</th>\n",
       "      <td>New Hampshire Cops Intent On Protecting Sadis...</td>\n",
       "      <td>It s 2017, and lynchings of black people still...</td>\n",
       "      <td>News</td>\n",
       "      <td>September 10, 2017</td>\n",
       "      <td>0</td>\n",
       "    </tr>\n",
       "  </tbody>\n",
       "</table>\n",
       "</div>"
      ],
      "text/plain": [
       "                                               title  \\\n",
       "0  Ramaphosa's ANC election win lifts South Afric...   \n",
       "1  VIGILANTE PIRATES INTERCEDE Where Government F...   \n",
       "2  SICK! DEMOCRAT ORGANIZER, Mayor DeBlasio Emplo...   \n",
       "3  Dennis Rodman talks of skiing friendship with ...   \n",
       "4   New Hampshire Cops Intent On Protecting Sadis...   \n",
       "\n",
       "                                                text          subject  \\\n",
       "0  JOHANNESBURG (Reuters) - South African banking...        worldnews   \n",
       "1  Like the Soldiers of Oden vigilante group we r...  Government News   \n",
       "2  Last week it was Huma Abedin s husband Anthony...        left-news   \n",
       "3  EDINBURGH (Reuters) - U.S. basketball legend D...        worldnews   \n",
       "4  It s 2017, and lynchings of black people still...             News   \n",
       "\n",
       "                 date  target  \n",
       "0  December 19, 2017        1  \n",
       "1         Apr 1, 2016       0  \n",
       "2        May 28, 2017       0  \n",
       "3  September 6, 2017        1  \n",
       "4  September 10, 2017       0  "
      ]
     },
     "execution_count": 7,
     "metadata": {},
     "output_type": "execute_result"
    }
   ],
   "source": [
    "combined.head(5)"
   ]
  },
  {
   "cell_type": "code",
   "execution_count": 8,
   "metadata": {},
   "outputs": [
    {
     "data": {
      "text/plain": [
       "title      0\n",
       "text       0\n",
       "subject    0\n",
       "date       0\n",
       "target     0\n",
       "dtype: int64"
      ]
     },
     "execution_count": 8,
     "metadata": {},
     "output_type": "execute_result"
    }
   ],
   "source": [
    "combined.isnull().sum()"
   ]
  },
  {
   "cell_type": "code",
   "execution_count": 9,
   "metadata": {},
   "outputs": [
    {
     "data": {
      "text/plain": [
       "<matplotlib.axes._subplots.AxesSubplot at 0x2473be9c208>"
      ]
     },
     "execution_count": 9,
     "metadata": {},
     "output_type": "execute_result"
    },
    {
     "data": {
      "image/png": "[encoded data removed]",
      "text/plain": [
       "<Figure size 432x288 with 1 Axes>"
      ]
     },
     "metadata": {
      "needs_background": "light"
     },
     "output_type": "display_data"
    }
   ],
   "source": [
    "sns.countplot(x = 'target',data = combined)"
   ]
  },
  {
   "cell_type": "markdown",
   "metadata": {},
   "source": [
    "## subject column"
   ]
  },
  {
   "cell_type": "code",
   "execution_count": 10,
   "metadata": {},
   "outputs": [
    {
     "data": {
      "text/plain": [
       "(array([0, 1, 2, 3, 4, 5, 6, 7]), <a list of 8 Text xticklabel objects>)"
      ]
     },
     "execution_count": 10,
     "metadata": {},
     "output_type": "execute_result"
    },
    {
     "data": {
      "image/png": "[encoded data removed]",
      "text/plain": [
       "<Figure size 432x288 with 1 Axes>"
      ]
     },
     "metadata": {
      "needs_background": "light"
     },
     "output_type": "display_data"
    }
   ],
   "source": [
    "sns.countplot(x = combined['subject'])\n",
    "plt.xticks(rotation = 90)"
   ]
  },
  {
   "cell_type": "markdown",
   "metadata": {},
   "source": [
    "## Text Data Preprocessing"
   ]
  },
  {
   "cell_type": "code",
   "execution_count": 11,
   "metadata": {},
   "outputs": [],
   "source": [
    "def clean_text(text):\n",
    "    \n",
    "    text = text.lower()\n",
    "    text = re.sub('\\[.*?\\]', '', text)\n",
    "    text = re.sub('https?://\\S+|www\\.\\S+', '', text)\n",
    "    text = re.sub('<.*?>+', '', text)\n",
    "    text = re.sub('[%s]' % re.escape(string.punctuation), '', text)\n",
    "    text = re.sub('\\n', '', text)\n",
    "    text = re.sub('\\w*\\d\\w*', '', text)\n",
    "    return text\n",
    "\n",
    "combined['text'] = combined['text'].apply(lambda x : clean_text(x))"
   ]
  },
  {
   "cell_type": "code",
   "execution_count": 12,
   "metadata": {},
   "outputs": [
    {
     "data": {
      "text/html": [
       "<div>\n",
       "<style scoped>\n",
       "    .dataframe tbody tr th:only-of-type {\n",
       "        vertical-align: middle;\n",
       "    }\n",
       "\n",
       "    .dataframe tbody tr th {\n",
       "        vertical-align: top;\n",
       "    }\n",
       "\n",
       "    .dataframe thead th {\n",
       "        text-align: right;\n",
       "    }\n",
       "</style>\n",
       "<table border=\"1\" class=\"dataframe\">\n",
       "  <thead>\n",
       "    <tr style=\"text-align: right;\">\n",
       "      <th></th>\n",
       "      <th>title</th>\n",
       "      <th>text</th>\n",
       "      <th>subject</th>\n",
       "      <th>date</th>\n",
       "      <th>target</th>\n",
       "    </tr>\n",
       "  </thead>\n",
       "  <tbody>\n",
       "    <tr>\n",
       "      <th>0</th>\n",
       "      <td>Ramaphosa's ANC election win lifts South Afric...</td>\n",
       "      <td>[johannesburg, reuters, south, african, bankin...</td>\n",
       "      <td>worldnews</td>\n",
       "      <td>December 19, 2017</td>\n",
       "      <td>1</td>\n",
       "    </tr>\n",
       "    <tr>\n",
       "      <th>1</th>\n",
       "      <td>VIGILANTE PIRATES INTERCEDE Where Government F...</td>\n",
       "      <td>[like, the, soldiers, of, oden, vigilante, gro...</td>\n",
       "      <td>Government News</td>\n",
       "      <td>Apr 1, 2016</td>\n",
       "      <td>0</td>\n",
       "    </tr>\n",
       "    <tr>\n",
       "      <th>2</th>\n",
       "      <td>SICK! DEMOCRAT ORGANIZER, Mayor DeBlasio Emplo...</td>\n",
       "      <td>[last, week, it, was, huma, abedin, s, husband...</td>\n",
       "      <td>left-news</td>\n",
       "      <td>May 28, 2017</td>\n",
       "      <td>0</td>\n",
       "    </tr>\n",
       "    <tr>\n",
       "      <th>3</th>\n",
       "      <td>Dennis Rodman talks of skiing friendship with ...</td>\n",
       "      <td>[edinburgh, reuters, us, basketball, legend, d...</td>\n",
       "      <td>worldnews</td>\n",
       "      <td>September 6, 2017</td>\n",
       "      <td>1</td>\n",
       "    </tr>\n",
       "    <tr>\n",
       "      <th>4</th>\n",
       "      <td>New Hampshire Cops Intent On Protecting Sadis...</td>\n",
       "      <td>[it, s, and, lynchings, of, black, people, sti...</td>\n",
       "      <td>News</td>\n",
       "      <td>September 10, 2017</td>\n",
       "      <td>0</td>\n",
       "    </tr>\n",
       "  </tbody>\n",
       "</table>\n",
       "</div>"
      ],
      "text/plain": [
       "                                               title  \\\n",
       "0  Ramaphosa's ANC election win lifts South Afric...   \n",
       "1  VIGILANTE PIRATES INTERCEDE Where Government F...   \n",
       "2  SICK! DEMOCRAT ORGANIZER, Mayor DeBlasio Emplo...   \n",
       "3  Dennis Rodman talks of skiing friendship with ...   \n",
       "4   New Hampshire Cops Intent On Protecting Sadis...   \n",
       "\n",
       "                                                text          subject  \\\n",
       "0  [johannesburg, reuters, south, african, bankin...        worldnews   \n",
       "1  [like, the, soldiers, of, oden, vigilante, gro...  Government News   \n",
       "2  [last, week, it, was, huma, abedin, s, husband...        left-news   \n",
       "3  [edinburgh, reuters, us, basketball, legend, d...        worldnews   \n",
       "4  [it, s, and, lynchings, of, black, people, sti...             News   \n",
       "\n",
       "                 date  target  \n",
       "0  December 19, 2017        1  \n",
       "1         Apr 1, 2016       0  \n",
       "2        May 28, 2017       0  \n",
       "3  September 6, 2017        1  \n",
       "4  September 10, 2017       0  "
      ]
     },
     "execution_count": 12,
     "metadata": {},
     "output_type": "execute_result"
    }
   ],
   "source": [
    "#Tokenization\n",
    "\n",
    "tokenizer = nltk.tokenize.RegexpTokenizer(r'\\w+')\n",
    "\n",
    "combined['text'] = combined['text'].apply(lambda x : tokenizer.tokenize(x))\n",
    "\n",
    "combined.head(5)"
   ]
  },
  {
   "cell_type": "code",
   "execution_count": 18,
   "metadata": {},
   "outputs": [
    {
     "name": "stdout",
     "output_type": "stream",
     "text": [
      "Processed  1000  rows\n",
      "Processed  2000  rows\n",
      "Processed  3000  rows\n",
      "Processed  4000  rows\n",
      "Processed  5000  rows\n",
      "Processed  6000  rows\n",
      "Processed  7000  rows\n",
      "Processed  8000  rows\n",
      "Processed  9000  rows\n",
      "Processed  10000  rows\n",
      "Processed  11000  rows\n",
      "Processed  12000  rows\n",
      "Processed  13000  rows\n",
      "Processed  14000  rows\n",
      "Processed  15000  rows\n",
      "Processed  16000  rows\n",
      "Processed  17000  rows\n",
      "Processed  18000  rows\n",
      "Processed  19000  rows\n",
      "Processed  20000  rows\n",
      "Processed  21000  rows\n",
      "Processed  22000  rows\n",
      "Processed  23000  rows\n",
      "Processed  24000  rows\n",
      "Processed  25000  rows\n",
      "Processed  26000  rows\n",
      "Processed  27000  rows\n",
      "Processed  28000  rows\n",
      "Processed  29000  rows\n",
      "Processed  30000  rows\n",
      "Processed  31000  rows\n",
      "Processed  32000  rows\n",
      "Processed  33000  rows\n",
      "Processed  34000  rows\n",
      "Processed  35000  rows\n",
      "Processed  36000  rows\n",
      "Processed  37000  rows\n",
      "Processed  38000  rows\n",
      "Processed  39000  rows\n",
      "Processed  40000  rows\n",
      "Processed  41000  rows\n",
      "Processed  42000  rows\n",
      "Processed  43000  rows\n",
      "Processed  44000  rows\n"
     ]
    },
    {
     "data": {
      "text/html": [
       "<div>\n",
       "<style scoped>\n",
       "    .dataframe tbody tr th:only-of-type {\n",
       "        vertical-align: middle;\n",
       "    }\n",
       "\n",
       "    .dataframe tbody tr th {\n",
       "        vertical-align: top;\n",
       "    }\n",
       "\n",
       "    .dataframe thead th {\n",
       "        text-align: right;\n",
       "    }\n",
       "</style>\n",
       "<table border=\"1\" class=\"dataframe\">\n",
       "  <thead>\n",
       "    <tr style=\"text-align: right;\">\n",
       "      <th></th>\n",
       "      <th>title</th>\n",
       "      <th>text</th>\n",
       "      <th>subject</th>\n",
       "      <th>date</th>\n",
       "      <th>target</th>\n",
       "    </tr>\n",
       "  </thead>\n",
       "  <tbody>\n",
       "    <tr>\n",
       "      <th>0</th>\n",
       "      <td>Ramaphosa's ANC election win lifts South Afric...</td>\n",
       "      <td>[johannesburg, reuters, south, african, bankin...</td>\n",
       "      <td>worldnews</td>\n",
       "      <td>December 19, 2017</td>\n",
       "      <td>1</td>\n",
       "    </tr>\n",
       "    <tr>\n",
       "      <th>1</th>\n",
       "      <td>VIGILANTE PIRATES INTERCEDE Where Government F...</td>\n",
       "      <td>[like, soldiers, oden, vigilante, group, repor...</td>\n",
       "      <td>Government News</td>\n",
       "      <td>Apr 1, 2016</td>\n",
       "      <td>0</td>\n",
       "    </tr>\n",
       "    <tr>\n",
       "      <th>2</th>\n",
       "      <td>SICK! DEMOCRAT ORGANIZER, Mayor DeBlasio Emplo...</td>\n",
       "      <td>[last, week, huma, abedin, husband, anthony, w...</td>\n",
       "      <td>left-news</td>\n",
       "      <td>May 28, 2017</td>\n",
       "      <td>0</td>\n",
       "    </tr>\n",
       "    <tr>\n",
       "      <th>3</th>\n",
       "      <td>Dennis Rodman talks of skiing friendship with ...</td>\n",
       "      <td>[edinburgh, reuters, us, basketball, legend, d...</td>\n",
       "      <td>worldnews</td>\n",
       "      <td>September 6, 2017</td>\n",
       "      <td>1</td>\n",
       "    </tr>\n",
       "    <tr>\n",
       "      <th>4</th>\n",
       "      <td>New Hampshire Cops Intent On Protecting Sadis...</td>\n",
       "      <td>[lynchings, black, people, still, happen, jim,...</td>\n",
       "      <td>News</td>\n",
       "      <td>September 10, 2017</td>\n",
       "      <td>0</td>\n",
       "    </tr>\n",
       "  </tbody>\n",
       "</table>\n",
       "</div>"
      ],
      "text/plain": [
       "                                               title  \\\n",
       "0  Ramaphosa's ANC election win lifts South Afric...   \n",
       "1  VIGILANTE PIRATES INTERCEDE Where Government F...   \n",
       "2  SICK! DEMOCRAT ORGANIZER, Mayor DeBlasio Emplo...   \n",
       "3  Dennis Rodman talks of skiing friendship with ...   \n",
       "4   New Hampshire Cops Intent On Protecting Sadis...   \n",
       "\n",
       "                                                text          subject  \\\n",
       "0  [johannesburg, reuters, south, african, bankin...        worldnews   \n",
       "1  [like, soldiers, oden, vigilante, group, repor...  Government News   \n",
       "2  [last, week, huma, abedin, husband, anthony, w...        left-news   \n",
       "3  [edinburgh, reuters, us, basketball, legend, d...        worldnews   \n",
       "4  [lynchings, black, people, still, happen, jim,...             News   \n",
       "\n",
       "                 date  target  \n",
       "0  December 19, 2017        1  \n",
       "1         Apr 1, 2016       0  \n",
       "2        May 28, 2017       0  \n",
       "3  September 6, 2017        1  \n",
       "4  September 10, 2017       0  "
      ]
     },
     "execution_count": 18,
     "metadata": {},
     "output_type": "execute_result"
    }
   ],
   "source": [
    "#Stopwords removal\n",
    "\n",
    "i = 0\n",
    "def remove_stopwords(text):\n",
    "    global i\n",
    "    words = [w for w in text if w not in stopwords.words('english')]\n",
    "    i+=1\n",
    "    \n",
    "    if(i%1000==0):\n",
    "        print(\"Processed \",i,\" rows\")\n",
    "    \n",
    "    return words\n",
    "\n",
    "combined['text'] = combined['text'].apply(lambda x : remove_stopwords(x))\n",
    "\n",
    "combined.head(5)"
   ]
  },
  {
   "cell_type": "code",
   "execution_count": 21,
   "metadata": {},
   "outputs": [
    {
     "data": {
      "text/html": [
       "<div>\n",
       "<style scoped>\n",
       "    .dataframe tbody tr th:only-of-type {\n",
       "        vertical-align: middle;\n",
       "    }\n",
       "\n",
       "    .dataframe tbody tr th {\n",
       "        vertical-align: top;\n",
       "    }\n",
       "\n",
       "    .dataframe thead th {\n",
       "        text-align: right;\n",
       "    }\n",
       "</style>\n",
       "<table border=\"1\" class=\"dataframe\">\n",
       "  <thead>\n",
       "    <tr style=\"text-align: right;\">\n",
       "      <th></th>\n",
       "      <th>title</th>\n",
       "      <th>text</th>\n",
       "      <th>subject</th>\n",
       "      <th>date</th>\n",
       "      <th>target</th>\n",
       "    </tr>\n",
       "  </thead>\n",
       "  <tbody>\n",
       "    <tr>\n",
       "      <th>0</th>\n",
       "      <td>Ramaphosa's ANC election win lifts South Afric...</td>\n",
       "      <td>johannesburg reuters south african banking sto...</td>\n",
       "      <td>worldnews</td>\n",
       "      <td>December 19, 2017</td>\n",
       "      <td>1</td>\n",
       "    </tr>\n",
       "    <tr>\n",
       "      <th>1</th>\n",
       "      <td>VIGILANTE PIRATES INTERCEDE Where Government F...</td>\n",
       "      <td>like soldiers oden vigilante group reported fe...</td>\n",
       "      <td>Government News</td>\n",
       "      <td>Apr 1, 2016</td>\n",
       "      <td>0</td>\n",
       "    </tr>\n",
       "    <tr>\n",
       "      <th>2</th>\n",
       "      <td>SICK! DEMOCRAT ORGANIZER, Mayor DeBlasio Emplo...</td>\n",
       "      <td>last week huma abedin husband anthony weiner w...</td>\n",
       "      <td>left-news</td>\n",
       "      <td>May 28, 2017</td>\n",
       "      <td>0</td>\n",
       "    </tr>\n",
       "    <tr>\n",
       "      <th>3</th>\n",
       "      <td>Dennis Rodman talks of skiing friendship with ...</td>\n",
       "      <td>edinburgh reuters us basketball legend dennis ...</td>\n",
       "      <td>worldnews</td>\n",
       "      <td>September 6, 2017</td>\n",
       "      <td>1</td>\n",
       "    </tr>\n",
       "    <tr>\n",
       "      <th>4</th>\n",
       "      <td>New Hampshire Cops Intent On Protecting Sadis...</td>\n",
       "      <td>lynchings black people still happen jim crow c...</td>\n",
       "      <td>News</td>\n",
       "      <td>September 10, 2017</td>\n",
       "      <td>0</td>\n",
       "    </tr>\n",
       "  </tbody>\n",
       "</table>\n",
       "</div>"
      ],
      "text/plain": [
       "                                               title  \\\n",
       "0  Ramaphosa's ANC election win lifts South Afric...   \n",
       "1  VIGILANTE PIRATES INTERCEDE Where Government F...   \n",
       "2  SICK! DEMOCRAT ORGANIZER, Mayor DeBlasio Emplo...   \n",
       "3  Dennis Rodman talks of skiing friendship with ...   \n",
       "4   New Hampshire Cops Intent On Protecting Sadis...   \n",
       "\n",
       "                                                text          subject  \\\n",
       "0  johannesburg reuters south african banking sto...        worldnews   \n",
       "1  like soldiers oden vigilante group reported fe...  Government News   \n",
       "2  last week huma abedin husband anthony weiner w...        left-news   \n",
       "3  edinburgh reuters us basketball legend dennis ...        worldnews   \n",
       "4  lynchings black people still happen jim crow c...             News   \n",
       "\n",
       "                 date  target  \n",
       "0  December 19, 2017        1  \n",
       "1         Apr 1, 2016       0  \n",
       "2        May 28, 2017       0  \n",
       "3  September 6, 2017        1  \n",
       "4  September 10, 2017       0  "
      ]
     },
     "execution_count": 21,
     "metadata": {},
     "output_type": "execute_result"
    }
   ],
   "source": [
    "#Token normalization\n",
    "\n",
    "def combine_text(listoftext):\n",
    "    \n",
    "    combined_text = ' '.join(listoftext)\n",
    "    return combined_text\n",
    "\n",
    "combined['text'] = combined['text'].apply(lambda x : combine_text(x))\n",
    "\n",
    "combined.head(5)"
   ]
  },
  {
   "cell_type": "code",
   "execution_count": 20,
   "metadata": {},
   "outputs": [],
   "source": [
    "combined.to_csv(\"train_nostopwords_combined.csv\")"
   ]
  },
  {
   "cell_type": "markdown",
   "metadata": {},
   "source": [
    "# Tokens to Vector - Bag of words"
   ]
  },
  {
   "cell_type": "code",
   "execution_count": 23,
   "metadata": {},
   "outputs": [],
   "source": [
    "count_vectorizer = CountVectorizer()\n",
    "eval_vectors = count_vectorizer.fit_transform(combined['text'])"
   ]
  },
  {
   "cell_type": "markdown",
   "metadata": {},
   "source": [
    "### TFIDF Features"
   ]
  },
  {
   "cell_type": "code",
   "execution_count": 36,
   "metadata": {},
   "outputs": [],
   "source": [
    "tfidf = TfidfVectorizer(min_df = 2, max_df = 0.5, ngram_range =(1,2))\n",
    "eval_tfidf = tfidf.fit_transform(combined['text'])"
   ]
  },
  {
   "cell_type": "markdown",
   "metadata": {},
   "source": [
    "# Text Classifier"
   ]
  },
  {
   "cell_type": "code",
   "execution_count": 33,
   "metadata": {},
   "outputs": [
    {
     "name": "stdout",
     "output_type": "stream",
     "text": [
      "[0.99603082 0.99626517 0.99824828 0.99521419 0.99626517]\n",
      "0.9964047272927266\n"
     ]
    }
   ],
   "source": [
    "clf = LogisticRegression(C = 1.0)\n",
    "scores = model_selection.cross_val_score(clf, eval_vectors, \n",
    "                                         combined['target'],\n",
    "                                         cv = 5, scoring = 'f1')\n",
    "print(scores)\n",
    "print(sum(scores)/5)"
   ]
  },
  {
   "cell_type": "code",
   "execution_count": 38,
   "metadata": {},
   "outputs": [
    {
     "name": "stdout",
     "output_type": "stream",
     "text": [
      "[0.98524936 0.98671329 0.98646125 0.98577425 0.9855174 ]\n",
      "0.9859431100421017\n"
     ]
    }
   ],
   "source": [
    "clf_tfidf = LogisticRegression(C = 1.0)\n",
    "scores_tfidf = model_selection.cross_val_score(clf_tfidf, eval_tfidf, \n",
    "                                         combined['target'],\n",
    "                                        cv = 5, scoring = 'f1')\n",
    "print(scores_tfidf)\n",
    "print(sum(scores)/5)"
   ]
  },
  {
   "cell_type": "code",
   "execution_count": 14,
   "metadata": {},
   "outputs": [],
   "source": [
    "dummy_test = pd.read_csv('DummyTest.csv',encoding = \"ISO-8859-1\")"
   ]
  },
  {
   "cell_type": "code",
   "execution_count": 15,
   "metadata": {},
   "outputs": [
    {
     "name": "stdout",
     "output_type": "stream",
     "text": [
      "Processed  100  rows\n",
      "Processed  200  rows\n",
      "Processed  300  rows\n",
      "Processed  400  rows\n",
      "Processed  500  rows\n",
      "Processed  600  rows\n",
      "Processed  700  rows\n",
      "Processed  800  rows\n"
     ]
    },
    {
     "data": {
      "text/html": [
       "<div>\n",
       "<style scoped>\n",
       "    .dataframe tbody tr th:only-of-type {\n",
       "        vertical-align: middle;\n",
       "    }\n",
       "\n",
       "    .dataframe tbody tr th {\n",
       "        vertical-align: top;\n",
       "    }\n",
       "\n",
       "    .dataframe thead th {\n",
       "        text-align: right;\n",
       "    }\n",
       "</style>\n",
       "<table border=\"1\" class=\"dataframe\">\n",
       "  <thead>\n",
       "    <tr style=\"text-align: right;\">\n",
       "      <th></th>\n",
       "      <th>article_title</th>\n",
       "      <th>text</th>\n",
       "      <th>location</th>\n",
       "      <th>target</th>\n",
       "    </tr>\n",
       "  </thead>\n",
       "  <tbody>\n",
       "    <tr>\n",
       "      <th>0</th>\n",
       "      <td>Syria attack symptoms consistent with nerve ag...</td>\n",
       "      <td>[wed, apr, syria, attack, symptoms, consistent...</td>\n",
       "      <td>idlib</td>\n",
       "      <td>0</td>\n",
       "    </tr>\n",
       "    <tr>\n",
       "      <th>1</th>\n",
       "      <td>Homs governor says U.S. attack caused deaths b...</td>\n",
       "      <td>[fri, apr, homs, governor, says, us, attack, c...</td>\n",
       "      <td>homs</td>\n",
       "      <td>0</td>\n",
       "    </tr>\n",
       "    <tr>\n",
       "      <th>2</th>\n",
       "      <td>Death toll from Aleppo bomb attack at least 112</td>\n",
       "      <td>[sun, apr, death, toll, aleppo, bomb, attack, ...</td>\n",
       "      <td>aleppo</td>\n",
       "      <td>0</td>\n",
       "    </tr>\n",
       "    <tr>\n",
       "      <th>3</th>\n",
       "      <td>Aleppo bomb blast kills six Syrian state TV</td>\n",
       "      <td>[wed, apr, aleppo, bomb, blast, kills, six, sy...</td>\n",
       "      <td>aleppo</td>\n",
       "      <td>0</td>\n",
       "    </tr>\n",
       "    <tr>\n",
       "      <th>4</th>\n",
       "      <td>29 Syria Rebels Dead in Fighting for Key Alepp...</td>\n",
       "      <td>[sun, jul, syria, rebels, dead, fighting, key,...</td>\n",
       "      <td>aleppo</td>\n",
       "      <td>0</td>\n",
       "    </tr>\n",
       "  </tbody>\n",
       "</table>\n",
       "</div>"
      ],
      "text/plain": [
       "                                       article_title  \\\n",
       "0  Syria attack symptoms consistent with nerve ag...   \n",
       "1  Homs governor says U.S. attack caused deaths b...   \n",
       "2    Death toll from Aleppo bomb attack at least 112   \n",
       "3        Aleppo bomb blast kills six Syrian state TV   \n",
       "4  29 Syria Rebels Dead in Fighting for Key Alepp...   \n",
       "\n",
       "                                                text location  target  \n",
       "0  [wed, apr, syria, attack, symptoms, consistent...    idlib       0  \n",
       "1  [fri, apr, homs, governor, says, us, attack, c...     homs       0  \n",
       "2  [sun, apr, death, toll, aleppo, bomb, attack, ...   aleppo       0  \n",
       "3  [wed, apr, aleppo, bomb, blast, kills, six, sy...   aleppo       0  \n",
       "4  [sun, jul, syria, rebels, dead, fighting, key,...   aleppo       0  "
      ]
     },
     "execution_count": 15,
     "metadata": {},
     "output_type": "execute_result"
    }
   ],
   "source": [
    "def clean_text(text):\n",
    "    \n",
    "    text = text.lower()\n",
    "    text = re.sub('\\[.*?\\]', '', text)\n",
    "    text = re.sub('https?://\\S+|www\\.\\S+', '', text)\n",
    "    text = re.sub('<.*?>+', '', text)\n",
    "    text = re.sub('[%s]' % re.escape(string.punctuation), '', text)\n",
    "    text = re.sub('\\n', '', text)\n",
    "    text = re.sub('\\w*\\d\\w*', '', text)\n",
    "    return text\n",
    "\n",
    "dummy_test['text'] = dummy_test['text'].apply(lambda x : clean_text(x))\n",
    "\n",
    "\n",
    "#Tokenization\n",
    "\n",
    "tokenizer = nltk.tokenize.RegexpTokenizer(r'\\w+')\n",
    "\n",
    "dummy_test['text'] = dummy_test['text'].apply(lambda x : tokenizer.tokenize(x))\n",
    "\n",
    "\n",
    "#Stopwords removal\n",
    "\n",
    "i = 0\n",
    "def remove_stopwords(text):\n",
    "    global i\n",
    "    words = [w for w in text if w not in stopwords.words('english')]\n",
    "    i+=1\n",
    "    \n",
    "    if(i%100==0):\n",
    "        print(\"Processed \",i,\" rows\")\n",
    "    \n",
    "    return words\n",
    "\n",
    "dummy_test['text'] = dummy_test['text'].apply(lambda x : remove_stopwords(x))\n",
    "\n",
    "dummy_test.head(5)"
   ]
  },
  {
   "cell_type": "code",
   "execution_count": 16,
   "metadata": {},
   "outputs": [
    {
     "data": {
      "text/html": [
       "<div>\n",
       "<style scoped>\n",
       "    .dataframe tbody tr th:only-of-type {\n",
       "        vertical-align: middle;\n",
       "    }\n",
       "\n",
       "    .dataframe tbody tr th {\n",
       "        vertical-align: top;\n",
       "    }\n",
       "\n",
       "    .dataframe thead th {\n",
       "        text-align: right;\n",
       "    }\n",
       "</style>\n",
       "<table border=\"1\" class=\"dataframe\">\n",
       "  <thead>\n",
       "    <tr style=\"text-align: right;\">\n",
       "      <th></th>\n",
       "      <th>article_title</th>\n",
       "      <th>text</th>\n",
       "      <th>location</th>\n",
       "      <th>target</th>\n",
       "    </tr>\n",
       "  </thead>\n",
       "  <tbody>\n",
       "    <tr>\n",
       "      <th>0</th>\n",
       "      <td>Syria attack symptoms consistent with nerve ag...</td>\n",
       "      <td>wed apr syria attack symptoms consistent nerve...</td>\n",
       "      <td>idlib</td>\n",
       "      <td>0</td>\n",
       "    </tr>\n",
       "    <tr>\n",
       "      <th>1</th>\n",
       "      <td>Homs governor says U.S. attack caused deaths b...</td>\n",
       "      <td>fri apr homs governor says us attack caused de...</td>\n",
       "      <td>homs</td>\n",
       "      <td>0</td>\n",
       "    </tr>\n",
       "    <tr>\n",
       "      <th>2</th>\n",
       "      <td>Death toll from Aleppo bomb attack at least 112</td>\n",
       "      <td>sun apr death toll aleppo bomb attack least de...</td>\n",
       "      <td>aleppo</td>\n",
       "      <td>0</td>\n",
       "    </tr>\n",
       "    <tr>\n",
       "      <th>3</th>\n",
       "      <td>Aleppo bomb blast kills six Syrian state TV</td>\n",
       "      <td>wed apr aleppo bomb blast kills six syrian sta...</td>\n",
       "      <td>aleppo</td>\n",
       "      <td>0</td>\n",
       "    </tr>\n",
       "    <tr>\n",
       "      <th>4</th>\n",
       "      <td>29 Syria Rebels Dead in Fighting for Key Alepp...</td>\n",
       "      <td>sun jul syria rebels dead fighting key aleppo ...</td>\n",
       "      <td>aleppo</td>\n",
       "      <td>0</td>\n",
       "    </tr>\n",
       "  </tbody>\n",
       "</table>\n",
       "</div>"
      ],
      "text/plain": [
       "                                       article_title  \\\n",
       "0  Syria attack symptoms consistent with nerve ag...   \n",
       "1  Homs governor says U.S. attack caused deaths b...   \n",
       "2    Death toll from Aleppo bomb attack at least 112   \n",
       "3        Aleppo bomb blast kills six Syrian state TV   \n",
       "4  29 Syria Rebels Dead in Fighting for Key Alepp...   \n",
       "\n",
       "                                                text location  target  \n",
       "0  wed apr syria attack symptoms consistent nerve...    idlib       0  \n",
       "1  fri apr homs governor says us attack caused de...     homs       0  \n",
       "2  sun apr death toll aleppo bomb attack least de...   aleppo       0  \n",
       "3  wed apr aleppo bomb blast kills six syrian sta...   aleppo       0  \n",
       "4  sun jul syria rebels dead fighting key aleppo ...   aleppo       0  "
      ]
     },
     "execution_count": 16,
     "metadata": {},
     "output_type": "execute_result"
    }
   ],
   "source": [
    "#Token normalization\n",
    "\n",
    "def combine_text(listoftext):\n",
    "    \n",
    "    combined_text = ' '.join(listoftext)\n",
    "    return combined_text\n",
    "\n",
    "dummy_test['text'] = dummy_test['text'].apply(lambda x : combine_text(x))\n",
    "\n",
    "dummy_test.head(5)"
   ]
  },
  {
   "cell_type": "code",
   "execution_count": 5,
   "metadata": {},
   "outputs": [],
   "source": [
    "dummy_test.to_csv(\"testnostopwords.csv\",index = False)"
   ]
  },
  {
   "cell_type": "code",
   "execution_count": 57,
   "metadata": {},
   "outputs": [],
   "source": [
    "test_vectors = count_vectorizer.transform(dummy_test['text'])"
   ]
  },
  {
   "cell_type": "code",
   "execution_count": 58,
   "metadata": {},
   "outputs": [],
   "source": [
    "test_tfidf = tfidf.transform(dummy_test['text'])"
   ]
  },
  {
   "cell_type": "code",
   "execution_count": 69,
   "metadata": {},
   "outputs": [
    {
     "name": "stdout",
     "output_type": "stream",
     "text": [
      "[0.99603082 0.99626517 0.99824828 0.99521419 0.99626517]\n",
      "0.9964047272927266\n"
     ]
    }
   ],
   "source": [
    "clf = LogisticRegression(C = 1.0)\n",
    "scores = model_selection.cross_val_score(clf, eval_vectors, \n",
    "                                         combined['target'],\n",
    "                                         cv = 5, scoring = 'f1')\n",
    "print(scores)\n",
    "print(sum(scores)/5)"
   ]
  },
  {
   "cell_type": "code",
   "execution_count": 59,
   "metadata": {},
   "outputs": [
    {
     "data": {
      "text/plain": [
       "LogisticRegression(C=1.0, class_weight=None, dual=False, fit_intercept=True,\n",
       "                   intercept_scaling=1, l1_ratio=None, max_iter=100,\n",
       "                   multi_class='auto', n_jobs=None, penalty='l2',\n",
       "                   random_state=None, solver='lbfgs', tol=0.0001, verbose=0,\n",
       "                   warm_start=False)"
      ]
     },
     "execution_count": 59,
     "metadata": {},
     "output_type": "execute_result"
    }
   ],
   "source": [
    "clf.fit(eval_vectors, combined['target'])"
   ]
  },
  {
   "cell_type": "code",
   "execution_count": 60,
   "metadata": {},
   "outputs": [],
   "source": [
    "y_test = dummy_test['labels']\n",
    "preds = clf.predict(test_vectors)"
   ]
  },
  {
   "cell_type": "code",
   "execution_count": 64,
   "metadata": {},
   "outputs": [
    {
     "name": "stdout",
     "output_type": "stream",
     "text": [
      "0.4725415070242656\n"
     ]
    }
   ],
   "source": [
    "#from sklearn.metrics import f1_score\n",
    "\n",
    "print(f1_score(y_test,preds))"
   ]
  },
  {
   "cell_type": "code",
   "execution_count": 71,
   "metadata": {},
   "outputs": [
    {
     "data": {
      "text/plain": [
       "LogisticRegression(C=1.0, class_weight=None, dual=False, fit_intercept=True,\n",
       "                   intercept_scaling=1, l1_ratio=None, max_iter=100,\n",
       "                   multi_class='auto', n_jobs=None, penalty='l2',\n",
       "                   random_state=None, solver='lbfgs', tol=0.0001, verbose=0,\n",
       "                   warm_start=False)"
      ]
     },
     "execution_count": 71,
     "metadata": {},
     "output_type": "execute_result"
    }
   ],
   "source": [
    "clf_tfidf.fit(eval_tfidf,combined['target'])"
   ]
  },
  {
   "cell_type": "code",
   "execution_count": 74,
   "metadata": {},
   "outputs": [
    {
     "name": "stdout",
     "output_type": "stream",
     "text": [
      "0.6387035271687321\n"
     ]
    }
   ],
   "source": [
    "pred_tfidf = clf_tfidf.predict(test_tfidf)\n",
    "print(f1_score(dummy_test['labels'],pred_tfidf))"
   ]
  }
 ],
 "metadata": {
  "kernelspec": {
   "display_name": "Python 3.7.7 64-bit ('gpu': conda)",
   "language": "python",
   "name": "python37764bitgpuconda08766899e99640f8bf22a5cda132f1fd"
  },
  "language_info": {
   "codemirror_mode": {
    "name": "ipython",
    "version": 3
   },
   "file_extension": ".py",
   "mimetype": "text/x-python",
   "name": "python",
   "nbconvert_exporter": "python",
   "pygments_lexer": "ipython3",
   "version": "3.7.7"
  }
 },
 "nbformat": 4,
 "nbformat_minor": 4
}
